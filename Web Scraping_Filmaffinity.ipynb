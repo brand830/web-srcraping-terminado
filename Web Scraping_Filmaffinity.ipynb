{
 "cells": [
  {
   "cell_type": "code",
   "execution_count": 11,
   "id": "11b7e1eb",
   "metadata": {},
   "outputs": [],
   "source": [
    "#F I L M A F F I N I T Y\n",
    "\n",
    "import requests\n",
    "import pandas as pd\n",
    "from bs4 import BeautifulSoup\n",
    "import seaborn as sns\n",
    "import matplotlib.pyplot as plt"
   ]
  },
  {
   "cell_type": "code",
   "execution_count": 4,
   "id": "5e3a88a0",
   "metadata": {},
   "outputs": [],
   "source": [
    "#Solicitud HTTP a la página para analizar el contenido HTML\n",
    "url = \"https://www.filmaffinity.com/es/ranking.php?rn=ranking_fa_movies&chv=0\"\n",
    "page = requests.get(url)\n",
    "soup = BeautifulSoup(page.content,\"html.parser\")\n"
   ]
  },
  {
   "cell_type": "code",
   "execution_count": 5,
   "id": "03b4a6dd",
   "metadata": {},
   "outputs": [
    {
     "name": "stdout",
     "output_type": "stream",
     "text": [
      "['El padrino  (1972)   ', 'El padrino. Parte II  (1974)   ', 'Doce hombres sin piedad  (1957)   ', 'La lista de Schindler  (1993)   ', 'Testigo de cargo  (1957)   ', 'Luces de la ciudad  (1931)   ', 'Cadena perpetua  (1994)   ', 'Tiempos modernos  (1936)   ', 'El gran dictador  (1940)   ', 'Pulp Fiction  (1994)   ', 'El golpe  (1973)   ', 'Ser o no ser  (1942)   ', 'Harakiri  (1962)   ', 'El crepúsculo de los dioses  (1950)   ', 'La vida es bella  (1997)   ', 'Eva al desnudo  (1950)   ', 'Senderos de gloria  (1957)   ', 'El infierno del odio  (1963)   ', 'Los siete samuráis  (1954)   ', 'Amanecer  (1927)   ', 'Perdición  (1944)   ', 'El apartamento  (1960)   ', 'Ciudad de Dios  (2002)   ', 'El chico  (1921)   ', 'La evasión  (1960)   ', 'Psicosis  (1960)   ', 'La quimera del oro  (1925)   ', 'Uno de los nuestros  (1990)   ', 'Casablanca  (1942)   ', 'Alguien voló sobre el nido del cuco  (1975)   ']\n",
      "-------------------------------------------------\n",
      "30\n"
     ]
    }
   ],
   "source": [
    "#PELICULAS\n",
    "\n",
    "nombres = soup.find_all(\"div\", class_=\"mc-title\")\n",
    "peliculas = []\n",
    "count = 0\n",
    "for i in nombres:\n",
    "  if count < 30:\n",
    "    peliculas.append(i.text)\n",
    "    count += 1\n",
    "  else:\n",
    "      break\n",
    "print(peliculas)\n",
    "print(\"-------------------------------------------------\")\n",
    "print(len (peliculas))\n"
   ]
  },
  {
   "cell_type": "code",
   "execution_count": 6,
   "id": "63db5899",
   "metadata": {},
   "outputs": [
    {
     "name": "stdout",
     "output_type": "stream",
     "text": [
      "Nombres de películas: ['El padrino ', 'El padrino. Parte II ', 'Doce hombres sin piedad ', 'La lista de Schindler ', 'Testigo de cargo ', 'Luces de la ciudad ', 'Cadena perpetua ', 'Tiempos modernos ', 'El gran dictador ', 'Pulp Fiction ', 'El golpe ', 'Ser o no ser ', 'Harakiri ', 'El crepúsculo de los dioses ', 'La vida es bella ', 'Eva al desnudo ', 'Senderos de gloria ', 'El infierno del odio ', 'Los siete samuráis ', 'Amanecer ', 'Perdición ', 'El apartamento ', 'Ciudad de Dios ', 'El chico ', 'La evasión ', 'Psicosis ', 'La quimera del oro ', 'Uno de los nuestros ', 'Casablanca ', 'Alguien voló sobre el nido del cuco '] 30\n",
      "------------------------------------------------------------------------------------------------------\n",
      "Años de películas: ['1972 ', '1974 ', '1957 ', '1993 ', '1957 ', '1931 ', '1994 ', '1936 ', '1940 ', '1994 ', '1973 ', '1942 ', '1962 ', '1950 ', '1997 ', '1950 ', '1957 ', '1963 ', '1954 ', '1927 ', '1944 ', '1960 ', '2002 ', '1921 ', '1960 ', '1960 ', '1925 ', '1990 ', '1942 ', '1975 '] 30\n"
     ]
    }
   ],
   "source": [
    "#Dividimos una lista en dos\n",
    "\n",
    "titulo = []\n",
    "año = []\n",
    "\n",
    "for film in peliculas:\n",
    "    nombre, year = film.split(' (')  #Separación de la lista \"peliculas\"\n",
    "    titulo.append(nombre)\n",
    "    año.append(year.replace(')  ', ''))  # Eliminar el paréntesis de cierre\n",
    "\n",
    "print(\"Nombres de películas:\", titulo, len(titulo))\n",
    "print(\"------------------------------------------------------------------------------------------------------\")\n",
    "print(\"Años de películas:\", año, len(año))\n"
   ]
  },
  {
   "cell_type": "code",
   "execution_count": 7,
   "id": "e1fa6669",
   "metadata": {},
   "outputs": [
    {
     "name": "stdout",
     "output_type": "stream",
     "text": [
      "['9,0', '8,9', '8,7', '8,6', '8,6', '8,6', '8,6', '8,6', '8,6', '8,6', '8,5', '8,5', '8,5', '8,5', '8,5', '8,4', '8,4', '8,4', '8,4', '8,4', '8,4', '8,4', '8,4', '8,4', '8,4', '8,4', '8,4', '8,4', '8,4', '8,3'] 30\n"
     ]
    }
   ],
   "source": [
    "#CALIFICACIÓN\n",
    "\n",
    "rank = soup.find_all(\"div\",class_=\"avg-rating\")\n",
    "puntuacion = list()\n",
    "count = 0\n",
    "for i in rank:\n",
    "  if count < 30:\n",
    "    puntuacion.append(i.text)\n",
    "  else:\n",
    "    break\n",
    "  count += 1\n",
    "print(puntuacion,len(puntuacion))"
   ]
  },
  {
   "cell_type": "code",
   "execution_count": 8,
   "id": "87af0d05",
   "metadata": {},
   "outputs": [
    {
     "name": "stdout",
     "output_type": "stream",
     "text": [
      "['Francis Ford Coppola', 'Francis Ford Coppola', 'Sidney Lumet', 'Steven Spielberg', 'Billy Wilder', 'Charles Chaplin', 'Frank Darabont', 'Charles Chaplin', 'Charles Chaplin', 'Quentin Tarantino', 'George Roy Hill', 'Ernst Lubitsch', 'Masaki Kobayashi', 'Billy Wilder', 'Roberto Benigni', 'Joseph L. Mankiewicz', 'Stanley Kubrick', 'Akira Kurosawa', 'Akira Kurosawa', 'F.W. Murnau', 'Billy Wilder', 'Billy Wilder', 'Fernando Meirelles, Kátia Lund', 'Charles Chaplin', 'Jacques Becker', 'Alfred Hitchcock', 'Charles Chaplin', 'Martin Scorsese', 'Michael Curtiz', 'Milos Forman'] 30\n"
     ]
    }
   ],
   "source": [
    "#DIRECTOR\n",
    "\n",
    "dir = soup.find_all(\"div\",class_=\"mc-director\")\n",
    "director = list()\n",
    "count = 0\n",
    "for i in dir:\n",
    "  if count < 30:\n",
    "    director.append(i.text)\n",
    "  else:\n",
    "    break\n",
    "  count += 1\n",
    "print(director,len(director))"
   ]
  },
  {
   "cell_type": "code",
   "execution_count": 9,
   "id": "37593f08",
   "metadata": {},
   "outputs": [
    {
     "name": "stdout",
     "output_type": "stream",
     "text": [
      "['174207 ', '139015 ', '70419 ', '174526 ', '44697 ', '32822 ', '168722 ', '63251 ', '85738 ', '202130 ', '100631 ', '35462 ', '13200 ', '47272 ', '191303 ', '35605 ', '56031 ', '9832 ', '42752 ', '14487 ', '33959 ', '81386 ', '127821 ', '33114 ', '12924 ', '108957 ', '28062 ', '113092 ', '97999 ', '110793 '] 30\n"
     ]
    }
   ],
   "source": [
    "#CANTIDAD DE VOTOS\n",
    "\n",
    "num = soup.find_all(\"div\",class_=\"rat-count\")\n",
    "votos = list()\n",
    "count = 0\n",
    "for i in num:\n",
    "  if count < 30:\n",
    "    votos.append(i.text.replace('.', ''))\n",
    "  else:\n",
    "    break\n",
    "  count += 1\n",
    "print(votos,len(votos))"
   ]
  },
  {
   "cell_type": "code",
   "execution_count": 10,
   "id": "f1fad45b",
   "metadata": {
    "scrolled": true
   },
   "outputs": [
    {
     "name": "stdout",
     "output_type": "stream",
     "text": [
      "                                 TITULO    AÑO  VALORACION                        DIRECTOR  VOTOS  \n",
      "1                            El padrino   1972         9,0            Francis Ford Coppola  174207 \n",
      "2                  El padrino. Parte II   1974         8,9            Francis Ford Coppola  139015 \n",
      "3               Doce hombres sin piedad   1957         8,7                    Sidney Lumet   70419 \n",
      "4                 La lista de Schindler   1993         8,6                Steven Spielberg  174526 \n",
      "5                      Testigo de cargo   1957         8,6                    Billy Wilder   44697 \n",
      "6                    Luces de la ciudad   1931         8,6                 Charles Chaplin   32822 \n",
      "7                       Cadena perpetua   1994         8,6                  Frank Darabont  168722 \n",
      "8                      Tiempos modernos   1936         8,6                 Charles Chaplin   63251 \n",
      "9                      El gran dictador   1940         8,6                 Charles Chaplin   85738 \n",
      "10                         Pulp Fiction   1994         8,6               Quentin Tarantino  202130 \n",
      "11                             El golpe   1973         8,5                 George Roy Hill  100631 \n",
      "12                         Ser o no ser   1942         8,5                  Ernst Lubitsch   35462 \n",
      "13                             Harakiri   1962         8,5                Masaki Kobayashi   13200 \n",
      "14          El crepúsculo de los dioses   1950         8,5                    Billy Wilder   47272 \n",
      "15                     La vida es bella   1997         8,5                 Roberto Benigni  191303 \n",
      "16                       Eva al desnudo   1950         8,4            Joseph L. Mankiewicz   35605 \n",
      "17                   Senderos de gloria   1957         8,4                 Stanley Kubrick   56031 \n",
      "18                 El infierno del odio   1963         8,4                  Akira Kurosawa    9832 \n",
      "19                   Los siete samuráis   1954         8,4                  Akira Kurosawa   42752 \n",
      "20                             Amanecer   1927         8,4                     F.W. Murnau   14487 \n",
      "21                            Perdición   1944         8,4                    Billy Wilder   33959 \n",
      "22                       El apartamento   1960         8,4                    Billy Wilder   81386 \n",
      "23                       Ciudad de Dios   2002         8,4  Fernando Meirelles, Kátia Lund  127821 \n",
      "24                             El chico   1921         8,4                 Charles Chaplin   33114 \n",
      "25                           La evasión   1960         8,4                  Jacques Becker   12924 \n",
      "26                             Psicosis   1960         8,4                Alfred Hitchcock  108957 \n",
      "27                   La quimera del oro   1925         8,4                 Charles Chaplin   28062 \n",
      "28                  Uno de los nuestros   1990         8,4                 Martin Scorsese  113092 \n",
      "29                           Casablanca   1942         8,4                  Michael Curtiz   97999 \n",
      "30  Alguien voló sobre el nido del cuco   1975         8,3                    Milos Forman  110793 \n"
     ]
    }
   ],
   "source": [
    "tabla = pd.DataFrame({\"TITULO \": titulo,\"AÑO \": año, \"VALORACION\": puntuacion, \"DIRECTOR\": director, \"VOTOS  \": votos}, index = list (range(1,31)))\n",
    "\n",
    "print(tabla.to_string())"
   ]
  },
  {
   "cell_type": "code",
   "execution_count": 19,
   "id": "bea8ec37",
   "metadata": {},
   "outputs": [
    {
     "data": {
      "image/png": "[encoded data removed]",
      "text/plain": [
       "<Figure size 1000x600 with 1 Axes>"
      ]
     },
     "metadata": {},
     "output_type": "display_data"
    }
   ],
   "source": [
    "sns.set(style=\"whitegrid\", palette=\"pastel\")\n",
    "\n",
    "plt.figure(figsize=(10, 6))\n",
    "sns.countplot(y=\"VALORACION\", data=tabla, palette=\"pastel\")\n",
    "\n",
    "plt.title(\"Distribución de Valoraciones\", fontsize=16)\n",
    "plt.xlabel(\"Cantidad\", fontsize=12)\n",
    "plt.ylabel(\"Valoración\", fontsize=12)\n",
    "\n",
    "plt.tight_layout()\n",
    "plt.show()"
   ]
  },
  {
   "cell_type": "code",
   "execution_count": null,
   "id": "372abbd9",
   "metadata": {},
   "outputs": [],
   "source": [
    "tabla.to_csv(\"Peliculas001.csv\", index = False)"
   ]
  },
  {
   "cell_type": "code",
   "execution_count": null,
   "id": "fc82535d",
   "metadata": {},
   "outputs": [],
   "source": []
  }
 ],
 "metadata": {
  "kernelspec": {
   "display_name": "Python 3 (ipykernel)",
   "language": "python",
   "name": "python3"
  },
  "language_info": {
   "codemirror_mode": {
    "name": "ipython",
    "version": 3
   },
   "file_extension": ".py",
   "mimetype": "text/x-python",
   "name": "python",
   "nbconvert_exporter": "python",
   "pygments_lexer": "ipython3",
   "version": "3.10.11"
  }
 },
 "nbformat": 4,
 "nbformat_minor": 5
}
