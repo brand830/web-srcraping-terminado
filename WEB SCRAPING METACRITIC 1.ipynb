{
 "cells": [
  {
   "cell_type": "markdown",
   "id": "298cdaf8",
   "metadata": {},
   "source": [
    "<center> <h1>Universidad Nacional de San Agustín de Arequipa</h1> </center> \n",
    "<center> <h1>Escuela Profesional de Ingeniería de Telecomunicaciones</h1> </center> \n",
    "\n",
    "<center> <h1> </h1> </center> \n",
    "\n",
    "<center><img src=\"https://user-images.githubusercontent.com/19308295/115939517-f1c6fe80-a463-11eb-989c-812ab4942586.png\" width=\"380\" height=\"4200\"></center>"
   ]
  },
  {
   "cell_type": "markdown",
   "id": "249e3ddc",
   "metadata": {},
   "source": [
    "<center> <h1>Curso : Computación 2</h1> </center> "
   ]
  },
  {
   "cell_type": "markdown",
   "id": "c9b777da",
   "metadata": {},
   "source": [
    "<center> <h2>Docentes: Ingeniero Renzo Bolivar</h2> </center> "
   ]
  },
  {
   "cell_type": "markdown",
   "id": "9a3f8d03",
   "metadata": {},
   "source": [
    "<center> <h2>Alumno: Alanoca Maquera Brandon Yoel</h2> </center> "
   ]
  },
  {
   "cell_type": "markdown",
   "id": "e6d39c05",
   "metadata": {},
   "source": [
    "<center> <h2>TEMA: WEB SCRAPING</h2> </center> "
   ]
  },
  {
   "cell_type": "markdown",
   "id": "8600f6a3",
   "metadata": {},
   "source": [
    "## 1.ANALIZAR EL CONTENIDO DE LA PAGINA METACRITIC"
   ]
  },
  {
   "cell_type": "code",
   "execution_count": null,
   "id": "afe3a420",
   "metadata": {},
   "outputs": [],
   "source": [
    "import requests\n",
    "from requests import get\n",
    "from bs4 import BeautifulSoup\n",
    "import pandas as pd\n",
    "from time import sleep\n",
    "from random import randint\n",
    "from qgrid import show_grid\n",
    "import seaborn as sns\n",
    "#from pandas_profiling import ProfileReport\n",
    "from funpymodeling.exploratory import freq_tbl, status, profiling_num, cat_vars, num_vars\n"
   ]
  },
  {
   "cell_type": "code",
   "execution_count": 2,
   "id": "136b7b90",
   "metadata": {},
   "outputs": [],
   "source": [
    "headers = {'User-Agent': 'Mozilla/5.0 (Windows NT 10.0; Win64; x64) AppleWebKit/537.36 (KHTML, like Gecko) Chrome/91.0.4472.124 Safari/537.36'}\n"
   ]
  },
  {
   "cell_type": "code",
   "execution_count": 3,
   "id": "5e979e88",
   "metadata": {},
   "outputs": [],
   "source": [
    "pages = [str(i) for i in range(0,10,2)]"
   ]
  },
  {
   "cell_type": "code",
   "execution_count": 4,
   "id": "9f220c05",
   "metadata": {
    "scrolled": true
   },
   "outputs": [],
   "source": [
    "\n",
    "contenido = requests.get('https://www.metacritic.com/browse/movies/score/metascore/all/filtered?page=', headers=headers)\n",
    "soup = BeautifulSoup(contenido.text, 'html.parser')\n"
   ]
  },
  {
   "cell_type": "markdown",
   "id": "35c0005e",
   "metadata": {},
   "source": [
    "### 1.1 VISUALIZACION CONTENIDO DE UNA SOLA PELICULA\n"
   ]
  },
  {
   "cell_type": "code",
   "execution_count": 5,
   "id": "a0268702",
   "metadata": {},
   "outputs": [
    {
     "name": "stdout",
     "output_type": "stream",
     "text": [
      "<class 'bs4.element.ResultSet'>\n"
     ]
    }
   ],
   "source": [
    "# buscamos las etiquetas correspondientes\n",
    "\n",
    "# Buscar la etiquera que gurada toda la informacion \n",
    "contenido = soup.find_all('td', class_='clamp-summary-wrap')  \n",
    "print(type(contenido))"
   ]
  },
  {
   "cell_type": "code",
   "execution_count": 6,
   "id": "e6814ddc",
   "metadata": {},
   "outputs": [
    {
     "data": {
      "text/plain": [
       "100"
      ]
     },
     "execution_count": 6,
     "metadata": {},
     "output_type": "execute_result"
    }
   ],
   "source": [
    "#nos muestra que toma todas las peliculas de la pagina \n",
    "len(contenido)\n"
   ]
  },
  {
   "cell_type": "code",
   "execution_count": 7,
   "id": "3af7e95f",
   "metadata": {},
   "outputs": [
    {
     "data": {
      "text/plain": [
       "<td class=\"clamp-summary-wrap\">\n",
       "<input class=\"clamp-summary-expand\" id=\"522553\" type=\"checkbox\">\n",
       "<div class=\"clamp-score-wrap\">\n",
       "<a class=\"metascore_anchor\" href=\"/movie/the-godfather/critic-reviews\">\n",
       "<div class=\"metascore_w large movie positive perfect\">100</div>\n",
       "</a>\n",
       "</div>\n",
       "<span class=\"title numbered\">\n",
       "                                                                    2.\n",
       "                                                            </span>\n",
       "<a class=\"title\" href=\"/movie/the-godfather\"><h3>The Godfather</h3></a>\n",
       "<div class=\"clamp-details\">\n",
       "<span>March 24, 1972</span>\n",
       "<span class=\"cert_rating R\"> | R</span>\n",
       "</div>\n",
       "<div class=\"summary\">\n",
       "                        Francis Ford Coppola's epic features Marlon Brando in his Oscar-winning role as the patriarch of the Corleone family. Director Coppola paints a chilling portrait of the Sicilian clan's rise and near fall from power in America, masterfully balancing the story between the Corleone's family life and the ugly crime business in which they are engaged. Based on Mario Puzo's best-selling novel and featuring career-making performances by Al Pacino, James Caan and Robert Duvall, this searing and brilliant film garnered ten Academy Award nominations, and won three including Best Picture of 1972. [Paramount Pictures]\n",
       "                        </div>\n",
       "<div class=\"browse-score-clamp\">\n",
       "<div class=\"clamp-metascore\">\n",
       "<span class=\"title\">Metascore:</span>\n",
       "<a class=\"metascore_anchor\" href=\"/movie/the-godfather/critic-reviews\">\n",
       "<div class=\"metascore_w large movie positive perfect\">100</div>\n",
       "</a>\n",
       "</div>\n",
       "<div class=\"clamp-userscore\">\n",
       "<span class=\"title\">User Score:</span>\n",
       "<a class=\"metascore_anchor\" href=\"/movie/the-godfather/user-reviews\">\n",
       "<div class=\"metascore_w user large movie positive\">9.2</div>\n",
       "</a>\n",
       "</div>\n",
       "</div>\n",
       "<i aria-hidden=\"true\" class=\"fa fa-caret-up\"></i>\n",
       "<i aria-hidden=\"true\" class=\"fa fa-caret-down\"></i>\n",
       "<label class=\"clamp-list-expand-label\" for=\"522553\"></label>\n",
       "</input></td>"
      ]
     },
     "execution_count": 7,
     "metadata": {},
     "output_type": "execute_result"
    }
   ],
   "source": [
    "#para una sola peliula observamos \n",
    "contenido[1]"
   ]
  },
  {
   "cell_type": "code",
   "execution_count": 8,
   "id": "caa84583",
   "metadata": {},
   "outputs": [
    {
     "data": {
      "text/plain": [
       "'The Godfather'"
      ]
     },
     "execution_count": 8,
     "metadata": {},
     "output_type": "execute_result"
    }
   ],
   "source": [
    "#Accedemos a los nombres de las peliculas \n",
    "pelicula = contenido[1]\n",
    "pelicula.find('h3').text\n"
   ]
  },
  {
   "cell_type": "code",
   "execution_count": 9,
   "id": "44d1e5a3",
   "metadata": {},
   "outputs": [
    {
     "data": {
      "text/plain": [
       "'March 24, 1972'"
      ]
     },
     "execution_count": 9,
     "metadata": {},
     "output_type": "execute_result"
    }
   ],
   "source": [
    "#Accedemos a  la fecha de estreno \n",
    "fecha=contenido[1]\n",
    "fecha.select('div.clamp-details span')[0].text\n"
   ]
  },
  {
   "cell_type": "code",
   "execution_count": 10,
   "id": "1f2cec98",
   "metadata": {},
   "outputs": [
    {
     "data": {
      "text/plain": [
       "' | R'"
      ]
     },
     "execution_count": 10,
     "metadata": {},
     "output_type": "execute_result"
    }
   ],
   "source": [
    "#calificacion de la pelicula\n",
    "fecha.select('div.clamp-details span')[1].text"
   ]
  },
  {
   "cell_type": "code",
   "execution_count": 11,
   "id": "f100dc6e",
   "metadata": {},
   "outputs": [
    {
     "data": {
      "text/plain": [
       "'100'"
      ]
     },
     "execution_count": 11,
     "metadata": {},
     "output_type": "execute_result"
    }
   ],
   "source": [
    "#metascore de la pelicula\n",
    "pelicula.select('a.metascore_anchor div')[0].text"
   ]
  },
  {
   "cell_type": "code",
   "execution_count": 12,
   "id": "07e2a580",
   "metadata": {},
   "outputs": [
    {
     "data": {
      "text/plain": [
       "'9.2'"
      ]
     },
     "execution_count": 12,
     "metadata": {},
     "output_type": "execute_result"
    }
   ],
   "source": [
    "#puntuacion de la pelicula\n",
    "pelicula.select('a.metascore_anchor div')[2].text"
   ]
  },
  {
   "cell_type": "markdown",
   "id": "6e21ae76",
   "metadata": {},
   "source": [
    "## 2.GENERAR CODIGO PARA TODAS LAS PAGINAS"
   ]
  },
  {
   "cell_type": "code",
   "execution_count": 24,
   "id": "facd8e89",
   "metadata": {},
   "outputs": [],
   "source": [
    "\n",
    "# Listas para almacenar los datos extraídos\n",
    "nombres = []\n",
    "fecha_de_lanzamiento = []\n",
    "clasificaciones = []\n",
    "meta_scores = []\n",
    "puntuacion_de_usuarios = []\n",
    "\n",
    "\n",
    "pages = [str(i) for i in range(0,20,2)]\n",
    "# Iterar por las páginas\n",
    "for page in pages:\n",
    "    # Hacer una solicitud GET\n",
    "    url_pag = get('https://www.metacritic.com/browse/movies/score/metascore/all/filtered?page=' + str(page), headers=headers)\n",
    "    \n",
    "    # Pausar el bucle durante 8-20 segundos\n",
    "    sleep(randint(1, 2))\n",
    "    \n",
    "    # Analizar el contenido de la respuesta en un objeto BeautifulSoup\n",
    "    pel_soup = BeautifulSoup(url_pag.text, 'html.parser')\n",
    "    \n",
    "    # Encontrar el contenedor principal peculiar de cada película\n",
    "    contenido = pel_soup.find_all('td', class_='clamp-summary-wrap')\n",
    "    \n",
    "    # Iterar a través de los contenedores\n",
    "    for cont in contenido:\n",
    "        # Extraer el nombre de la película\n",
    "        nombre = cont.find('h3').text.strip()\n",
    "        nombres.append(nombre)\n",
    "    \n",
    "        # Extraer la fecha de lanzamiento\n",
    "        fecha = cont.select('div.clamp-details span')[0].text.strip()\n",
    "        fecha_de_lanzamiento.append(fecha)\n",
    "    \n",
    "        # Extraer la calificación (verificación de índice)\n",
    "        clasificacion = cont.select('div.clamp-details span')\n",
    "        clasificacion = cont.select('div.clamp-details span')[1].text if len(clasificacion) > 1 else 'N/A'\n",
    "        clasificaciones.append(clasificacion)\n",
    "      \n",
    "        #extraer meta scores\n",
    "        meta_score= cont.select('a.metascore_anchor div')[0].text\n",
    "        meta_scores.append(meta_score)\n",
    "    \n",
    "        #extraer puntuacion de usuarios\n",
    "        puntuacion_de_usuario = cont.select('a.metascore_anchor div')[2].text\n",
    "        puntuacion_de_usuarios.append(puntuacion_de_usuario)\n"
   ]
  },
  {
   "cell_type": "code",
   "execution_count": 25,
   "id": "4ef9b3fc",
   "metadata": {},
   "outputs": [
    {
     "data": {
      "text/html": [
       "<div>\n",
       "<style scoped>\n",
       "    .dataframe tbody tr th:only-of-type {\n",
       "        vertical-align: middle;\n",
       "    }\n",
       "\n",
       "    .dataframe tbody tr th {\n",
       "        vertical-align: top;\n",
       "    }\n",
       "\n",
       "    .dataframe thead th {\n",
       "        text-align: right;\n",
       "    }\n",
       "</style>\n",
       "<table border=\"1\" class=\"dataframe\">\n",
       "  <thead>\n",
       "    <tr style=\"text-align: right;\">\n",
       "      <th></th>\n",
       "      <th>Nombres</th>\n",
       "      <th>Fecha_de_lanzamiento</th>\n",
       "      <th>Clasificaciones</th>\n",
       "      <th>Meta_scores</th>\n",
       "      <th>Puntuacion_de_usuarios</th>\n",
       "    </tr>\n",
       "  </thead>\n",
       "  <tbody>\n",
       "    <tr>\n",
       "      <th>0</th>\n",
       "      <td>Tokyo Story</td>\n",
       "      <td>March 13, 1972</td>\n",
       "      <td>| Not Rated</td>\n",
       "      <td>100</td>\n",
       "      <td>8.7</td>\n",
       "    </tr>\n",
       "    <tr>\n",
       "      <th>1</th>\n",
       "      <td>The Godfather</td>\n",
       "      <td>March 24, 1972</td>\n",
       "      <td>| R</td>\n",
       "      <td>100</td>\n",
       "      <td>9.2</td>\n",
       "    </tr>\n",
       "    <tr>\n",
       "      <th>2</th>\n",
       "      <td>Citizen Kane</td>\n",
       "      <td>September 4, 1941</td>\n",
       "      <td>| Approved</td>\n",
       "      <td>100</td>\n",
       "      <td>8.4</td>\n",
       "    </tr>\n",
       "    <tr>\n",
       "      <th>3</th>\n",
       "      <td>Rear Window</td>\n",
       "      <td>September 1, 1954</td>\n",
       "      <td>| TV-G</td>\n",
       "      <td>100</td>\n",
       "      <td>8.7</td>\n",
       "    </tr>\n",
       "    <tr>\n",
       "      <th>4</th>\n",
       "      <td>Casablanca</td>\n",
       "      <td>January 23, 1943</td>\n",
       "      <td>| TV-PG</td>\n",
       "      <td>100</td>\n",
       "      <td>8.8</td>\n",
       "    </tr>\n",
       "    <tr>\n",
       "      <th>...</th>\n",
       "      <td>...</td>\n",
       "      <td>...</td>\n",
       "      <td>...</td>\n",
       "      <td>...</td>\n",
       "      <td>...</td>\n",
       "    </tr>\n",
       "    <tr>\n",
       "      <th>995</th>\n",
       "      <td>Jodorowsky's Dune</td>\n",
       "      <td>March 21, 2014</td>\n",
       "      <td>| Not Rated</td>\n",
       "      <td>79</td>\n",
       "      <td>8.2</td>\n",
       "    </tr>\n",
       "    <tr>\n",
       "      <th>996</th>\n",
       "      <td>The Five Obstructions</td>\n",
       "      <td>May 26, 2004</td>\n",
       "      <td>| Unrated</td>\n",
       "      <td>79</td>\n",
       "      <td>6.9</td>\n",
       "    </tr>\n",
       "    <tr>\n",
       "      <th>997</th>\n",
       "      <td>Beasts of No Nation</td>\n",
       "      <td>October 16, 2015</td>\n",
       "      <td>| Not Rated</td>\n",
       "      <td>79</td>\n",
       "      <td>8.2</td>\n",
       "    </tr>\n",
       "    <tr>\n",
       "      <th>998</th>\n",
       "      <td>Apollo 10½: A Space Age Childhood</td>\n",
       "      <td>March 25, 2022</td>\n",
       "      <td>| PG-13</td>\n",
       "      <td>79</td>\n",
       "      <td>7.1</td>\n",
       "    </tr>\n",
       "    <tr>\n",
       "      <th>999</th>\n",
       "      <td>Gandhi</td>\n",
       "      <td>February 25, 1983</td>\n",
       "      <td>| PG</td>\n",
       "      <td>79</td>\n",
       "      <td>7.5</td>\n",
       "    </tr>\n",
       "  </tbody>\n",
       "</table>\n",
       "<p>1000 rows × 5 columns</p>\n",
       "</div>"
      ],
      "text/plain": [
       "                               Nombres Fecha_de_lanzamiento Clasificaciones  \\\n",
       "0                          Tokyo Story       March 13, 1972     | Not Rated   \n",
       "1                        The Godfather       March 24, 1972             | R   \n",
       "2                         Citizen Kane    September 4, 1941      | Approved   \n",
       "3                          Rear Window    September 1, 1954          | TV-G   \n",
       "4                           Casablanca     January 23, 1943         | TV-PG   \n",
       "..                                 ...                  ...             ...   \n",
       "995                  Jodorowsky's Dune       March 21, 2014     | Not Rated   \n",
       "996              The Five Obstructions         May 26, 2004       | Unrated   \n",
       "997                Beasts of No Nation     October 16, 2015     | Not Rated   \n",
       "998  Apollo 10½: A Space Age Childhood       March 25, 2022         | PG-13   \n",
       "999                             Gandhi    February 25, 1983            | PG   \n",
       "\n",
       "    Meta_scores Puntuacion_de_usuarios  \n",
       "0           100                    8.7  \n",
       "1           100                    9.2  \n",
       "2           100                    8.4  \n",
       "3           100                    8.7  \n",
       "4           100                    8.8  \n",
       "..          ...                    ...  \n",
       "995          79                    8.2  \n",
       "996          79                    6.9  \n",
       "997          79                    8.2  \n",
       "998          79                    7.1  \n",
       "999          79                    7.5  \n",
       "\n",
       "[1000 rows x 5 columns]"
      ]
     },
     "execution_count": 25,
     "metadata": {},
     "output_type": "execute_result"
    }
   ],
   "source": [
    "#convertimos a Dataframe\n",
    "\n",
    "pelicula_df = pd.DataFrame({\n",
    "    'Nombres': nombres,\n",
    "    'Fecha_de_lanzamiento': fecha_de_lanzamiento,\n",
    "    'Clasificaciones': clasificaciones,\n",
    "    'Meta_scores': meta_scores,\n",
    "    'Puntuacion_de_usuarios': puntuacion_de_usuarios})\n",
    "\n",
    "pelicula_df\n"
   ]
  },
  {
   "cell_type": "code",
   "execution_count": 26,
   "id": "7c3ef0cb",
   "metadata": {},
   "outputs": [
    {
     "name": "stdout",
     "output_type": "stream",
     "text": [
      "<class 'pandas.core.frame.DataFrame'>\n",
      "RangeIndex: 1000 entries, 0 to 999\n",
      "Data columns (total 5 columns):\n",
      " #   Column                  Non-Null Count  Dtype \n",
      "---  ------                  --------------  ----- \n",
      " 0   Nombres                 1000 non-null   object\n",
      " 1   Fecha_de_lanzamiento    1000 non-null   object\n",
      " 2   Clasificaciones         1000 non-null   object\n",
      " 3   Meta_scores             1000 non-null   object\n",
      " 4   Puntuacion_de_usuarios  1000 non-null   object\n",
      "dtypes: object(5)\n",
      "memory usage: 39.2+ KB\n",
      "None\n"
     ]
    }
   ],
   "source": [
    "print(pelicula_df.info())"
   ]
  },
  {
   "cell_type": "code",
   "execution_count": null,
   "id": "e8f74b71",
   "metadata": {},
   "outputs": [],
   "source": []
  },
  {
   "cell_type": "code",
   "execution_count": 27,
   "id": "d6505f61",
   "metadata": {},
   "outputs": [],
   "source": [
    "\n",
    "# Guardar el DataFrame como archivo CSV\n",
    "pelicula_df.to_csv('ruta_del_archivo.csv', index=False)\n"
   ]
  },
  {
   "cell_type": "markdown",
   "id": "cf261c2b",
   "metadata": {},
   "source": [
    "# 3. ANALISIS DE DATOS "
   ]
  },
  {
   "cell_type": "code",
   "execution_count": 28,
   "id": "f52c1fd5",
   "metadata": {},
   "outputs": [],
   "source": [
    "from matplotlib import pyplot as plt"
   ]
  },
  {
   "cell_type": "code",
   "execution_count": 29,
   "id": "76312776",
   "metadata": {},
   "outputs": [],
   "source": [
    "pel_dfcopia = pelicula_df.copy() "
   ]
  },
  {
   "cell_type": "code",
   "execution_count": 30,
   "id": "ee0bab26",
   "metadata": {},
   "outputs": [
    {
     "data": {
      "text/html": [
       "<div>\n",
       "<style scoped>\n",
       "    .dataframe tbody tr th:only-of-type {\n",
       "        vertical-align: middle;\n",
       "    }\n",
       "\n",
       "    .dataframe tbody tr th {\n",
       "        vertical-align: top;\n",
       "    }\n",
       "\n",
       "    .dataframe thead th {\n",
       "        text-align: right;\n",
       "    }\n",
       "</style>\n",
       "<table border=\"1\" class=\"dataframe\">\n",
       "  <thead>\n",
       "    <tr style=\"text-align: right;\">\n",
       "      <th></th>\n",
       "      <th>Nombres</th>\n",
       "      <th>Fecha_de_lanzamiento</th>\n",
       "      <th>Clasificaciones</th>\n",
       "      <th>Meta_scores</th>\n",
       "      <th>Puntuacion_de_usuarios</th>\n",
       "    </tr>\n",
       "  </thead>\n",
       "  <tbody>\n",
       "    <tr>\n",
       "      <th>0</th>\n",
       "      <td>Tokyo Story</td>\n",
       "      <td>March 13, 1972</td>\n",
       "      <td>| Not Rated</td>\n",
       "      <td>100</td>\n",
       "      <td>8.7</td>\n",
       "    </tr>\n",
       "    <tr>\n",
       "      <th>1</th>\n",
       "      <td>The Godfather</td>\n",
       "      <td>March 24, 1972</td>\n",
       "      <td>| R</td>\n",
       "      <td>100</td>\n",
       "      <td>9.2</td>\n",
       "    </tr>\n",
       "    <tr>\n",
       "      <th>2</th>\n",
       "      <td>Citizen Kane</td>\n",
       "      <td>September 4, 1941</td>\n",
       "      <td>| Approved</td>\n",
       "      <td>100</td>\n",
       "      <td>8.4</td>\n",
       "    </tr>\n",
       "    <tr>\n",
       "      <th>3</th>\n",
       "      <td>Rear Window</td>\n",
       "      <td>September 1, 1954</td>\n",
       "      <td>| TV-G</td>\n",
       "      <td>100</td>\n",
       "      <td>8.7</td>\n",
       "    </tr>\n",
       "    <tr>\n",
       "      <th>4</th>\n",
       "      <td>Casablanca</td>\n",
       "      <td>January 23, 1943</td>\n",
       "      <td>| TV-PG</td>\n",
       "      <td>100</td>\n",
       "      <td>8.8</td>\n",
       "    </tr>\n",
       "    <tr>\n",
       "      <th>...</th>\n",
       "      <td>...</td>\n",
       "      <td>...</td>\n",
       "      <td>...</td>\n",
       "      <td>...</td>\n",
       "      <td>...</td>\n",
       "    </tr>\n",
       "    <tr>\n",
       "      <th>995</th>\n",
       "      <td>Jodorowsky's Dune</td>\n",
       "      <td>March 21, 2014</td>\n",
       "      <td>| Not Rated</td>\n",
       "      <td>79</td>\n",
       "      <td>8.2</td>\n",
       "    </tr>\n",
       "    <tr>\n",
       "      <th>996</th>\n",
       "      <td>The Five Obstructions</td>\n",
       "      <td>May 26, 2004</td>\n",
       "      <td>| Unrated</td>\n",
       "      <td>79</td>\n",
       "      <td>6.9</td>\n",
       "    </tr>\n",
       "    <tr>\n",
       "      <th>997</th>\n",
       "      <td>Beasts of No Nation</td>\n",
       "      <td>October 16, 2015</td>\n",
       "      <td>| Not Rated</td>\n",
       "      <td>79</td>\n",
       "      <td>8.2</td>\n",
       "    </tr>\n",
       "    <tr>\n",
       "      <th>998</th>\n",
       "      <td>Apollo 10½: A Space Age Childhood</td>\n",
       "      <td>March 25, 2022</td>\n",
       "      <td>| PG-13</td>\n",
       "      <td>79</td>\n",
       "      <td>7.1</td>\n",
       "    </tr>\n",
       "    <tr>\n",
       "      <th>999</th>\n",
       "      <td>Gandhi</td>\n",
       "      <td>February 25, 1983</td>\n",
       "      <td>| PG</td>\n",
       "      <td>79</td>\n",
       "      <td>7.5</td>\n",
       "    </tr>\n",
       "  </tbody>\n",
       "</table>\n",
       "<p>1000 rows × 5 columns</p>\n",
       "</div>"
      ],
      "text/plain": [
       "                               Nombres Fecha_de_lanzamiento Clasificaciones  \\\n",
       "0                          Tokyo Story       March 13, 1972     | Not Rated   \n",
       "1                        The Godfather       March 24, 1972             | R   \n",
       "2                         Citizen Kane    September 4, 1941      | Approved   \n",
       "3                          Rear Window    September 1, 1954          | TV-G   \n",
       "4                           Casablanca     January 23, 1943         | TV-PG   \n",
       "..                                 ...                  ...             ...   \n",
       "995                  Jodorowsky's Dune       March 21, 2014     | Not Rated   \n",
       "996              The Five Obstructions         May 26, 2004       | Unrated   \n",
       "997                Beasts of No Nation     October 16, 2015     | Not Rated   \n",
       "998  Apollo 10½: A Space Age Childhood       March 25, 2022         | PG-13   \n",
       "999                             Gandhi    February 25, 1983            | PG   \n",
       "\n",
       "    Meta_scores Puntuacion_de_usuarios  \n",
       "0           100                    8.7  \n",
       "1           100                    9.2  \n",
       "2           100                    8.4  \n",
       "3           100                    8.7  \n",
       "4           100                    8.8  \n",
       "..          ...                    ...  \n",
       "995          79                    8.2  \n",
       "996          79                    6.9  \n",
       "997          79                    8.2  \n",
       "998          79                    7.1  \n",
       "999          79                    7.5  \n",
       "\n",
       "[1000 rows x 5 columns]"
      ]
     },
     "execution_count": 30,
     "metadata": {},
     "output_type": "execute_result"
    }
   ],
   "source": [
    "pel_dfcopia"
   ]
  },
  {
   "cell_type": "code",
   "execution_count": 31,
   "id": "a66c9502",
   "metadata": {},
   "outputs": [
    {
     "data": {
      "text/html": [
       "<div>\n",
       "<style scoped>\n",
       "    .dataframe tbody tr th:only-of-type {\n",
       "        vertical-align: middle;\n",
       "    }\n",
       "\n",
       "    .dataframe tbody tr th {\n",
       "        vertical-align: top;\n",
       "    }\n",
       "\n",
       "    .dataframe thead th {\n",
       "        text-align: right;\n",
       "    }\n",
       "</style>\n",
       "<table border=\"1\" class=\"dataframe\">\n",
       "  <thead>\n",
       "    <tr style=\"text-align: right;\">\n",
       "      <th></th>\n",
       "      <th>variable</th>\n",
       "      <th>q_nan</th>\n",
       "      <th>p_nan</th>\n",
       "      <th>q_zeros</th>\n",
       "      <th>p_zeros</th>\n",
       "      <th>unique</th>\n",
       "      <th>type</th>\n",
       "    </tr>\n",
       "  </thead>\n",
       "  <tbody>\n",
       "    <tr>\n",
       "      <th>0</th>\n",
       "      <td>Nombres</td>\n",
       "      <td>0</td>\n",
       "      <td>0.0</td>\n",
       "      <td>0</td>\n",
       "      <td>0.0</td>\n",
       "      <td>998</td>\n",
       "      <td>object</td>\n",
       "    </tr>\n",
       "    <tr>\n",
       "      <th>1</th>\n",
       "      <td>Fecha_de_lanzamiento</td>\n",
       "      <td>0</td>\n",
       "      <td>0.0</td>\n",
       "      <td>0</td>\n",
       "      <td>0.0</td>\n",
       "      <td>865</td>\n",
       "      <td>object</td>\n",
       "    </tr>\n",
       "    <tr>\n",
       "      <th>2</th>\n",
       "      <td>Clasificaciones</td>\n",
       "      <td>0</td>\n",
       "      <td>0.0</td>\n",
       "      <td>0</td>\n",
       "      <td>0.0</td>\n",
       "      <td>20</td>\n",
       "      <td>object</td>\n",
       "    </tr>\n",
       "    <tr>\n",
       "      <th>3</th>\n",
       "      <td>Meta_scores</td>\n",
       "      <td>0</td>\n",
       "      <td>0.0</td>\n",
       "      <td>0</td>\n",
       "      <td>0.0</td>\n",
       "      <td>19</td>\n",
       "      <td>object</td>\n",
       "    </tr>\n",
       "    <tr>\n",
       "      <th>4</th>\n",
       "      <td>Puntuacion_de_usuarios</td>\n",
       "      <td>0</td>\n",
       "      <td>0.0</td>\n",
       "      <td>0</td>\n",
       "      <td>0.0</td>\n",
       "      <td>55</td>\n",
       "      <td>object</td>\n",
       "    </tr>\n",
       "  </tbody>\n",
       "</table>\n",
       "</div>"
      ],
      "text/plain": [
       "                 variable  q_nan  p_nan  q_zeros  p_zeros  unique    type\n",
       "0                 Nombres      0    0.0        0      0.0     998  object\n",
       "1    Fecha_de_lanzamiento      0    0.0        0      0.0     865  object\n",
       "2         Clasificaciones      0    0.0        0      0.0      20  object\n",
       "3             Meta_scores      0    0.0        0      0.0      19  object\n",
       "4  Puntuacion_de_usuarios      0    0.0        0      0.0      55  object"
      ]
     },
     "execution_count": 31,
     "metadata": {},
     "output_type": "execute_result"
    }
   ],
   "source": [
    "status(pel_dfcopia)"
   ]
  },
  {
   "cell_type": "code",
   "execution_count": 32,
   "id": "81b7b32e",
   "metadata": {},
   "outputs": [
    {
     "data": {
      "text/plain": [
       "Nombres                   0\n",
       "Fecha_de_lanzamiento      0\n",
       "Clasificaciones           0\n",
       "Meta_scores               0\n",
       "Puntuacion_de_usuarios    0\n",
       "dtype: int64"
      ]
     },
     "execution_count": 32,
     "metadata": {},
     "output_type": "execute_result"
    }
   ],
   "source": [
    "pel_dfcopia.isnull().sum()"
   ]
  },
  {
   "cell_type": "code",
   "execution_count": 33,
   "id": "7c007f47",
   "metadata": {},
   "outputs": [
    {
     "name": "stdout",
     "output_type": "stream",
     "text": [
      "Index(['Nombres', 'Fecha_de_lanzamiento', 'Clasificaciones', 'Meta_scores',\n",
      "       'Puntuacion_de_usuarios'],\n",
      "      dtype='object')\n"
     ]
    }
   ],
   "source": [
    "\n",
    "# Obtener las columnas del DataFrame\n",
    "columnas = pel_dfcopia.columns\n",
    "\n",
    "# Imprimir las columnas\n",
    "\n",
    "print(columnas)"
   ]
  },
  {
   "cell_type": "code",
   "execution_count": 34,
   "id": "edfe949b",
   "metadata": {},
   "outputs": [
    {
     "name": "stdout",
     "output_type": "stream",
     "text": [
      "                               Nombres Fecha_de_lanzamiento Clasificaciones  \\\n",
      "0                          Tokyo Story       March 13, 1972     | Not Rated   \n",
      "1                        The Godfather       March 24, 1972             | R   \n",
      "2                         Citizen Kane    September 4, 1941      | Approved   \n",
      "3                          Rear Window    September 1, 1954          | TV-G   \n",
      "4                           Casablanca     January 23, 1943         | TV-PG   \n",
      "..                                 ...                  ...             ...   \n",
      "995                  Jodorowsky's Dune       March 21, 2014     | Not Rated   \n",
      "996              The Five Obstructions         May 26, 2004       | Unrated   \n",
      "997                Beasts of No Nation     October 16, 2015     | Not Rated   \n",
      "998  Apollo 10½: A Space Age Childhood       March 25, 2022         | PG-13   \n",
      "999                             Gandhi    February 25, 1983            | PG   \n",
      "\n",
      "    Meta_scores Puntuacion_de_usuarios  \n",
      "0           100                    8.7  \n",
      "1           100                    9.2  \n",
      "2           100                    8.4  \n",
      "3           100                    8.7  \n",
      "4           100                    8.8  \n",
      "..          ...                    ...  \n",
      "995          79                    8.2  \n",
      "996          79                    6.9  \n",
      "997          79                    8.2  \n",
      "998          79                    7.1  \n",
      "999          79                    7.5  \n",
      "\n",
      "[1000 rows x 5 columns]\n"
     ]
    }
   ],
   "source": [
    "print(pel_dfcopia)"
   ]
  },
  {
   "cell_type": "code",
   "execution_count": 35,
   "id": "90d91a1d",
   "metadata": {},
   "outputs": [
    {
     "data": {
      "image/png": "[encoded data removed]",
      "text/plain": [
       "<Figure size 1200x600 with 1 Axes>"
      ]
     },
     "metadata": {},
     "output_type": "display_data"
    },
    {
     "name": "stdout",
     "output_type": "stream",
     "text": [
      "Las 20 películas con los máximos puntajes de usuarios:\n",
      "                                            Nombres Fecha_de_lanzamiento  \\\n",
      "1                                     The Godfather       March 24, 1972   \n",
      "88                                     Pulp Fiction     October 14, 1994   \n",
      "604  Star Wars: Episode V - The Empire Strikes Back         May 21, 1980   \n",
      "163                          The Godfather: Part II    December 12, 1974   \n",
      "256           The Lord of the Rings: The Two Towers    December 18, 2002   \n",
      "778                                         Memento       March 16, 2001   \n",
      "48                                    Spirited Away   September 20, 2002   \n",
      "448                                 The Dark Knight        July 18, 2008   \n",
      "185                                 The Incredibles     November 5, 2004   \n",
      "361                                         Traffic    December 27, 2000   \n",
      "89                                           WALL-E        June 27, 2008   \n",
      "151                             Saving Private Ryan        July 24, 1998   \n",
      "794                                      Your Name.        April 7, 2017   \n",
      "43                                     12 Angry Men        April 1, 1957   \n",
      "646                                        Face/Off        June 27, 1997   \n",
      "903                                     City of God     January 17, 2003   \n",
      "36                                           Psycho    September 8, 1960   \n",
      "49                                        Toy Story    November 22, 1995   \n",
      "488                                 American Beauty   September 15, 1999   \n",
      "18                                    Seven Samurai    November 19, 1956   \n",
      "\n",
      "    Clasificaciones Meta_scores  Puntuacion_de_usuarios  \n",
      "1               | R         100                     9.2  \n",
      "88              | R          95                     9.0  \n",
      "604            | PG          82                     9.0  \n",
      "163             | R          90                     9.0  \n",
      "256         | PG-13          87                     8.9  \n",
      "778             | R          81                     8.9  \n",
      "48             | PG          96                     8.9  \n",
      "448         | PG-13          84                     8.9  \n",
      "185            | PG          90                     8.8  \n",
      "361             | R          86                     8.8  \n",
      "89              | G          95                     8.8  \n",
      "151         | TV-MA          91                     8.8  \n",
      "794            | PG          81                     8.8  \n",
      "43       | Approved          97                     8.8  \n",
      "646             | R          82                     8.8  \n",
      "903             | R          79                     8.8  \n",
      "36              | M          97                     8.8  \n",
      "49           | TV-G          96                     8.8  \n",
      "488             | R          84                     8.8  \n",
      "18      | Not Rated          98                     8.8  \n"
     ]
    }
   ],
   "source": [
    "#HACEMOS UN GRAFICO DE LOS 20 MAXIMOS \n",
    "\n",
    "# Reemplazar los valores no numéricos por NaN\n",
    "pel_dfcopia['Puntuacion_de_usuarios'] = pd.to_numeric(pel_dfcopia['Puntuacion_de_usuarios'], errors='coerce')\n",
    "\n",
    "# Ordenar películas por puntuación de usuarios\n",
    "pel_dfcopia = pel_dfcopia.sort_values(\"Puntuacion_de_usuarios\", ascending=False)\n",
    "\n",
    "# Seleccionar los 20 máximos puntajes de usuarios\n",
    "top_20 = pel_dfcopia.nlargest(20, \"Puntuacion_de_usuarios\")\n",
    "\n",
    "# Establecer estilo de gráficos de Seaborn\n",
    "sns.set(style=\"whitegrid\")\n",
    "\n",
    "# Gráfico de barras de los 20 máximos puntajes de usuarios\n",
    "plt.figure(figsize=(12, 6))\n",
    "sns.barplot(data=top_20, x=\"Nombres\", y=\"Puntuacion_de_usuarios\", palette=\"viridis\")\n",
    "plt.title(\"Top 20 Puntajes de Usuarios de Películas\")\n",
    "plt.xlabel(\"Película\")\n",
    "plt.ylabel(\"Puntuación de Usuarios\")\n",
    "plt.xticks(rotation=90)\n",
    "plt.tight_layout()\n",
    "plt.show()\n",
    "\n",
    "# Imprimir las 20 películas con los máximos puntajes de usuarios\n",
    "print(\"Las 20 películas con los máximos puntajes de usuarios:\")\n",
    "print(top_20)\n",
    "\n"
   ]
  },
  {
   "cell_type": "code",
   "execution_count": null,
   "id": "8f6f5795",
   "metadata": {},
   "outputs": [],
   "source": []
  }
 ],
 "metadata": {
  "kernelspec": {
   "display_name": "Python 3 (ipykernel)",
   "language": "python",
   "name": "python3"
  },
  "language_info": {
   "codemirror_mode": {
    "name": "ipython",
    "version": 3
   },
   "file_extension": ".py",
   "mimetype": "text/x-python",
   "name": "python",
   "nbconvert_exporter": "python",
   "pygments_lexer": "ipython3",
   "version": "3.10.9"
  }
 },
 "nbformat": 4,
 "nbformat_minor": 5
}
